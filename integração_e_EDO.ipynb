{
  "nbformat": 4,
  "nbformat_minor": 0,
  "metadata": {
    "colab": {
      "provenance": [],
      "include_colab_link": true
    },
    "kernelspec": {
      "name": "python3",
      "display_name": "Python 3"
    },
    "language_info": {
      "name": "python"
    }
  },
  "cells": [
    {
      "cell_type": "markdown",
      "metadata": {
        "id": "view-in-github",
        "colab_type": "text"
      },
      "source": [
        "<a href=\"https://colab.research.google.com/github/luizhtss/us_py/blob/main/integra%C3%A7%C3%A3o_e_EDO.ipynb\" target=\"_parent\"><img src=\"https://colab.research.google.com/assets/colab-badge.svg\" alt=\"Open In Colab\"/></a>"
      ]
    },
    {
      "cell_type": "code",
      "execution_count": null,
      "metadata": {
        "colab": {
          "base_uri": "https://localhost:8080/"
        },
        "id": "q8LzCHRO_WoN",
        "outputId": "b8388363-18d6-4198-8503-324208828389"
      },
      "outputs": [
        {
          "output_type": "stream",
          "name": "stdout",
          "text": [
            "0.528818871392397\n",
            "0.530674341048925\n",
            "0.5306647264316313\n"
          ]
        }
      ],
      "source": [
        "#INTEGRAÇÃO\n",
        "\n",
        "import numpy as np\n",
        "import matplotlib.pyplot as plt\n",
        "\n",
        "def f(x):  #função que será integrada\n",
        "    r=13 #dado da questao (desvio padrao)\n",
        "    m=102 #dado da questao (media)\n",
        "    return (1/(r*np.sqrt(2*np.pi)))*np.exp(-0.5*((x-m)/r)**2) #função da questão\n",
        "\n",
        "#n é o número de aplic do método, neste caso é igual ao número de subintervalos\n",
        "def trapezio(a, b, n):\n",
        "  h = (b-a)/n  #calcula o tamanho de h\n",
        "  I = 0\n",
        "  x = a\n",
        "  for i in range(n):\n",
        "    I = I + (f(x) + f(x+h)) #formula do trapezio\n",
        "    x = x + h\n",
        "  return (h/2)*I\n",
        "\n",
        "#trapezio(0, 6, 6)\n",
        "print(trapezio(38, 103, 6))\n",
        "\n",
        "\n",
        "#SIMPSON 1/3\n",
        "\n",
        "# n é o número de aplic do método, que é igual ao número de subintervalos/2\n",
        "def simpson13(a, b, n):\n",
        "  h = (b-a)/(2*n)  #calcula o tamanho de h\n",
        "  I = 0\n",
        "  x = a\n",
        "  for i in range(n):\n",
        "    I = I + (f(x) + 4*f(x+h) + f(x+2*h))  #formula dE SIMPSON 1/3\n",
        "    x = x + 2*h\n",
        "  return (h/3)*I\n",
        "\n",
        "print(simpson13(38, 103, 6))\n",
        "\n",
        "\n",
        "#SIMPSON 3/8\n",
        "\n",
        "# n é o número de aplic do método, que é igual ao número de subintervalos/3\n",
        "def simpson38(a, b, n):\n",
        "  h = (b-a)/(3*n)\n",
        "  I = 0\n",
        "  x = a\n",
        "  for i in range(n):\n",
        "    I = I + (f(x) + 3*f(x+h) + 3*f(x+2*h) + f(x+3*h))\n",
        "    x = x + 3*h\n",
        "  return (3*h/8)*I\n",
        "\n",
        "#simpson38(1, 4, 3)\n",
        "print(simpson38(38, 103, 6))"
      ]
    },
    {
      "cell_type": "code",
      "source": [
        "#EDO - METODO DE EULER\n",
        "\n",
        "import numpy as np\n",
        "import matplotlib.pyplot as plt\n",
        "\n",
        "def g(x,y):\n",
        "  return (10-y)/(1-y**4)\n",
        "\n",
        "debug = 1\n",
        "\n",
        "def euler (x0,y0,h,n):\n",
        "  x = np.zeros(n+1)\n",
        "  y = np.zeros(n+1)\n",
        "  x[0] = x0\n",
        "  y[0] = y0\n",
        "  print(f'\\n\\nMétodo de Euler')\n",
        "\n",
        "  for i in range(n):\n",
        "    k1 = g(x[i], y[i])\n",
        "    phi = k1\n",
        "    y[i+1] = y[i] + phi*h #formula de y\n",
        "    x[i+1] = x[i] + h #formula de x\n",
        "    if (debug):\n",
        "      print(f'\\nIteração {i+1}')\n",
        "      print(f'k1 = g({x[i]:.4f}, {y[i]:.4f}) = {k1:.4f}')\n",
        "      print(f'phi = {phi:.4f}')\n",
        "      print(f'x = {x[i+1]:.4f}, y = {y[i+1]:.4f}')\n",
        "  return (x,y)\n",
        "\n",
        "x,y = euler (2, 3, 0.1, 30)\n",
        "\n",
        "plt.plot(x,y,'o')\n",
        "plt.grid()\n",
        "plt.show()"
      ],
      "metadata": {
        "id": "Y0zpxi9JVIuX"
      },
      "execution_count": null,
      "outputs": []
    },
    {
      "cell_type": "code",
      "source": [
        "#EDO - METODO DE HEUN\n",
        "\n",
        "import numpy as np\n",
        "import matplotlib.pyplot as plt\n",
        "\n",
        "def heun (x0,y0,h,n):\n",
        "  x = np.zeros(n+1)\n",
        "  y = np.zeros(n+1)\n",
        "  x[0] = x0\n",
        "  y[0] = y0\n",
        "  print(f'\\n\\nMétodo de Heun')\n",
        "  for i in range(n):\n",
        "    k1 = g(x[i], y[i])\n",
        "    k2 = g(x[i]+h, y[i]+k1*h)\n",
        "    phi = (k1+k2)/2\n",
        "    y[i+1] = y[i] + phi*h\n",
        "    x[i+1] = x[i] + h\n",
        "    if (debug):\n",
        "      print(f'\\nIteração {i+1}')\n",
        "      print(f'k1 = g({x[i]:.4f}, {y[i]:.4f}) = {k1:.4f}')\n",
        "      print(f'k2 = g({x[i]+h:.4f}, {y[i]+k1*h:.4f}) = {k2:.4f}')\n",
        "      print(f'phi = {phi:.4f}')\n",
        "      print(f'x = {x[i+1]:.4f}, y = {y[i+1]:.4f}')\n",
        "  return (x,y)\n",
        "\n",
        "x,y = heun (2, 3, 0.1, 30)\n",
        "\n",
        "plt.plot(x,y,'o')\n",
        "plt.grid()\n",
        "plt.show()"
      ],
      "metadata": {
        "id": "i686eRvIa8n9"
      },
      "execution_count": null,
      "outputs": []
    },
    {
      "cell_type": "code",
      "source": [
        "#EDO - METODO DE RK-4\n",
        "\n",
        "import numpy as np\n",
        "import matplotlib.pyplot as plt\n",
        "\n",
        "def rk4 (x0,y0,h,n):\n",
        "  x = np.zeros(n+1)\n",
        "  y = np.zeros(n+1)\n",
        "  x[0] = x0\n",
        "  y[0] = y0\n",
        "  print(f'\\n\\nMétodo de RK4')\n",
        "  for i in range(n):\n",
        "    k1 = g(x[i], y[i])\n",
        "    k2 = g(x[i]+h/2, y[i]+k1*h/2)\n",
        "    k3 = g(x[i]+h/2, y[i]+k2*h/2)\n",
        "    k4 = g(x[i]+h, y[i]+k3*h)\n",
        "    phi = (k1+2*k2+2*k3 + k4)/6\n",
        "    y[i+1] = y[i] + phi*h\n",
        "    x[i+1] = x[i] + h\n",
        "    if (debug):\n",
        "      print(f'\\nIteração {i+1}')\n",
        "      print(f'k1 = g({x[i]:.4f}, {y[i]:.4f}) = {k1:.4f}')\n",
        "      print(f'k2 = g({x[i]+h/2:.4f}, {y[i]+k1*h/2:.4f}) = {k2:.4f}')\n",
        "      print(f'k3 = g({x[i]+h/2:.4f}, {y[i]+k2*h/2:.4f}) = {k3:.4f}')\n",
        "      print(f'k4 = g({x[i]+h:.4f}, {y[i]+k3*h:.4f}) = {k4:.4f}')\n",
        "      print(f'phi = {phi:.4f}')\n",
        "      print(f'x = {x[i+1]:.4f}, y = {y[i+1]:.4f}')\n",
        "  return (x,y)\n",
        "\n",
        "x,y = rk4 (2, 3, 0.1, 30)\n",
        "\n",
        "plt.plot(x,y,'o')\n",
        "plt.grid()\n",
        "plt.show()"
      ],
      "metadata": {
        "id": "kHFl8Q84cjVA"
      },
      "execution_count": null,
      "outputs": []
    }
  ]
}